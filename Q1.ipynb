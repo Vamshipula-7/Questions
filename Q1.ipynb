{
 "cells": [
  {
   "cell_type": "code",
   "execution_count": 4,
   "id": "3fd319be-1514-4dc6-a0f5-eda44ce86c7b",
   "metadata": {},
   "outputs": [],
   "source": [
    "#Q1:- create own class to perform a list search operation\n",
    "#Q2:- create class for dict new element addition\n",
    "#Q3:- create class for tuple data Extraction operation\n",
    "#Q4:- create a class to implement all insert ,update ,delete  operation for mysql\n",
    "#Q5:- create a class to implement insert ,update , and delete in mongo db\n",
    "#Q6:- create a class to perform append and delete operation in a file and inherit it in child class\n",
    "#Q7:- create a class to import a data into file from mongo db\n",
    "#Q8:- create a class to build  a calculator functionalities addition,subtraction,multiplication,dividion,log,exponent,power\n",
    "#Q9:- create a class method to find a time and space complexity of any function\n",
    "#Q10:- craete a class to do a bulk upload of a file in mysql\n",
    "#Q11:- Give 10 different example of polymorphism ,encapsulation,data abstraction,overloading,overriding,multiple inheritance\n",
    "#Q12:- Try to explore a meaning of \"->\" this signature in python"
   ]
  },
  {
   "cell_type": "code",
   "execution_count": 1,
   "id": "4ce75474-5caa-419b-b6c9-9f93a1434df2",
   "metadata": {},
   "outputs": [],
   "source": [
    "import logging\n",
    "logging.basicConfig(filename=\"Search_list.log\",level=logging.DEBUG,format=\"%(asctime)s %(levelname)s %(message)s\")\n",
    "class Search:\n",
    "    def __init__(self,word,data):\n",
    "        self.word=word\n",
    "        self.data=data\n",
    "    def lst1(self):\n",
    "        try:\n",
    "            logging.info(\"Entering into Try block\")\n",
    "            for i in self.data:\n",
    "                if i==self.word:\n",
    "                    logging.info(\"if block executed successfully\")\n",
    "                    return i,\"yes\"\n",
    "            return \"no\"\n",
    "        \n",
    "        except Exception as e:\n",
    "            logging.error(\"no match\")\n",
    "            print(e,\"no\")"
   ]
  },
  {
   "cell_type": "code",
   "execution_count": 2,
   "id": "bc8cec44-b667-4526-a1ea-823efa9f6a29",
   "metadata": {},
   "outputs": [],
   "source": [
    "s=Search(\"krishna\",[\"ammu\",\"krishna\",\"chitti\",\"sreenika\"])"
   ]
  },
  {
   "cell_type": "code",
   "execution_count": 3,
   "id": "c1925b34-6480-4346-b17e-6557faa5ec74",
   "metadata": {},
   "outputs": [
    {
     "data": {
      "text/plain": [
       "('krishna', 'yes')"
      ]
     },
     "execution_count": 3,
     "metadata": {},
     "output_type": "execute_result"
    }
   ],
   "source": [
    "s.lst1()"
   ]
  },
  {
   "cell_type": "code",
   "execution_count": null,
   "id": "f4f60d00-a81d-4980-bf67-dffeff58e1e6",
   "metadata": {},
   "outputs": [],
   "source": []
  }
 ],
 "metadata": {
  "kernelspec": {
   "display_name": "Python 3 (ipykernel)",
   "language": "python",
   "name": "python3"
  },
  "language_info": {
   "codemirror_mode": {
    "name": "ipython",
    "version": 3
   },
   "file_extension": ".py",
   "mimetype": "text/x-python",
   "name": "python",
   "nbconvert_exporter": "python",
   "pygments_lexer": "ipython3",
   "version": "3.10.6"
  }
 },
 "nbformat": 4,
 "nbformat_minor": 5
}
