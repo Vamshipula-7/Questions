{
 "cells": [
  {
   "cell_type": "code",
   "execution_count": 1,
   "id": "a8cd81d8-fda2-441a-9722-4bbdd8c88d1e",
   "metadata": {},
   "outputs": [],
   "source": [
    "#Q3:- create class for tuple data Extraction operation"
   ]
  },
  {
   "cell_type": "code",
   "execution_count": 10,
   "id": "a0a45c7a-75a6-4d10-bf66-33f615f18388",
   "metadata": {},
   "outputs": [],
   "source": [
    "import logging\n",
    "logging.basicConfig(filename=\"Question3.log\",level=logging.DEBUG,format=\"%(asctime)s %(levelname)s %(message)s\")\n",
    "\n",
    "class Tuple:\n",
    "    \n",
    "    def __init__(self,data,s_index,e_index):\n",
    "        self.data=data\n",
    "        self.s_index=s_index\n",
    "        self.e_index=e_index\n",
    "    \n",
    "    def extract(self):\n",
    "        try:\n",
    "            logging.info(\"Entered into Try Block\")\n",
    "            return self.data[self.s_index:self.e_index]\n",
    "        except:\n",
    "            logging.error(\"index out of range:Got error\")\n",
    "            return \"Wrong\"\n",
    "    "
   ]
  },
  {
   "cell_type": "code",
   "execution_count": 11,
   "id": "37d60cf6-ad8b-4408-97a1-9d5882c6bf7d",
   "metadata": {},
   "outputs": [],
   "source": [
    "t=Tuple((\"vamshi\",\"krishna\",\"pula\",\"Chitti\",\"Sreenika\"),1,3)"
   ]
  },
  {
   "cell_type": "code",
   "execution_count": 12,
   "id": "c4b1ab33-71ac-4173-9324-e68e7d343a5d",
   "metadata": {},
   "outputs": [
    {
     "data": {
      "text/plain": [
       "('krishna', 'pula')"
      ]
     },
     "execution_count": 12,
     "metadata": {},
     "output_type": "execute_result"
    }
   ],
   "source": [
    "t.extract()"
   ]
  },
  {
   "cell_type": "code",
   "execution_count": null,
   "id": "5926d755-0b1a-48de-a228-88a803de70e4",
   "metadata": {},
   "outputs": [],
   "source": []
  }
 ],
 "metadata": {
  "kernelspec": {
   "display_name": "Python 3 (ipykernel)",
   "language": "python",
   "name": "python3"
  },
  "language_info": {
   "codemirror_mode": {
    "name": "ipython",
    "version": 3
   },
   "file_extension": ".py",
   "mimetype": "text/x-python",
   "name": "python",
   "nbconvert_exporter": "python",
   "pygments_lexer": "ipython3",
   "version": "3.10.6"
  }
 },
 "nbformat": 4,
 "nbformat_minor": 5
}
