{
 "cells": [
  {
   "cell_type": "code",
   "execution_count": 1,
   "id": "2e815a9a-5159-4c2d-a98f-faf43ec5b67c",
   "metadata": {},
   "outputs": [],
   "source": [
    "#Q6:- create a class to perform append and delete operation in a file and inherit it in child class"
   ]
  },
  {
   "cell_type": "code",
   "execution_count": 32,
   "id": "132e6c0f-2cbd-435a-8d95-cca648da09c8",
   "metadata": {},
   "outputs": [],
   "source": [
    "#import\n",
    "import logging\n",
    "logging.basicConfig(filename=\"Questin_6.log\",level=logging.DEBUG,filemode=\"w\",format=\"%(asctime)s %(levelname)s %(message)s\")\n",
    "\n",
    "class Question_6:\n",
    "    \n",
    "    def __init__(self,file_name):\n",
    "        self.file_name=file_name\n",
    "        \n",
    "    def read_file(self):\n",
    "        try:\n",
    "            with open(\"Question_6.txt\",\"r\") as file:\n",
    "                logging.info(\"file Read Successfuly\")\n",
    "                data=file.read()\n",
    "            return data\n",
    "        except Exception as e:\n",
    "            logging.error(e)\n",
    "            logging.error(\"Some error\")\n",
    "        \n",
    "    def write_file(self):\n",
    "        try:\n",
    "            with open(\"Question_6.txt\",\"a\") as file:\n",
    "                logging.info(\"file written successfully\")\n",
    "                data=file.write(self.file_name)\n",
    "            return data\n",
    "        except Exception as e:\n",
    "            logging.error(e)\n",
    "            logging.error(\"Some error Occured\")\n",
    "            \n",
    "    def delele_file(self):\n",
    "        try:\n",
    "            with open (\"Question_6.txt\",\"a\") as file:\n",
    "                file.seek(0)\n",
    "                data=file.truncate()\n",
    "                logging.info(\"Data deleted Succefully\")\n",
    "            return data\n",
    "        except Exception as e:\n",
    "            logging.error(e)\n",
    "            \n",
    "    \n",
    "class Q6(Question_6):  \n",
    "    def __init__(self,file_name):\n",
    "        Question_6.__init__(self,file_name)\n",
    "        \n",
    "        \n",
    "            \n",
    "    "
   ]
  },
  {
   "cell_type": "code",
   "execution_count": 27,
   "id": "f9c0a26a-0338-4df6-bc91-97d07b6c0928",
   "metadata": {},
   "outputs": [],
   "source": [
    "q=Q6(\"Birds are flying in the sky,cows are eating,me coding\")"
   ]
  },
  {
   "cell_type": "code",
   "execution_count": 28,
   "id": "5399e63a-f9cd-48ad-b714-f075277d637f",
   "metadata": {},
   "outputs": [
    {
     "data": {
      "text/plain": [
       "'Birds are flying in the sky,cows are eating,me codingBirds are flying in the sky,cows are eating,me codingBirds are flying in the sky,cows are eating,me codingBirds are flying in the sky,cows are eating,me codingBirds are flying in the sky,cows are eating,me codingBirds are flying in the sky,cows are eating,me codingBirds are flying in the sky,cows are eating,me codingBirds are flying in the sky,cows are eating,me coding'"
      ]
     },
     "execution_count": 28,
     "metadata": {},
     "output_type": "execute_result"
    }
   ],
   "source": [
    "q.read_file()"
   ]
  },
  {
   "cell_type": "code",
   "execution_count": 29,
   "id": "de26d54f-ec5f-4f1e-821b-851d08765f8d",
   "metadata": {},
   "outputs": [
    {
     "data": {
      "text/plain": [
       "53"
      ]
     },
     "execution_count": 29,
     "metadata": {},
     "output_type": "execute_result"
    }
   ],
   "source": [
    "q.write_file()"
   ]
  },
  {
   "cell_type": "code",
   "execution_count": 30,
   "id": "82eb4d00-79fd-4eaa-858a-a177045db413",
   "metadata": {},
   "outputs": [
    {
     "data": {
      "text/plain": [
       "'Birds are flying in the sky,cows are eating,me codingBirds are flying in the sky,cows are eating,me codingBirds are flying in the sky,cows are eating,me codingBirds are flying in the sky,cows are eating,me codingBirds are flying in the sky,cows are eating,me codingBirds are flying in the sky,cows are eating,me codingBirds are flying in the sky,cows are eating,me codingBirds are flying in the sky,cows are eating,me codingBirds are flying in the sky,cows are eating,me coding'"
      ]
     },
     "execution_count": 30,
     "metadata": {},
     "output_type": "execute_result"
    }
   ],
   "source": [
    "q.read_file()"
   ]
  },
  {
   "cell_type": "code",
   "execution_count": 31,
   "id": "46b3ad1b-7b7e-48e8-9172-456e4fdaf6e2",
   "metadata": {},
   "outputs": [
    {
     "data": {
      "text/plain": [
       "0"
      ]
     },
     "execution_count": 31,
     "metadata": {},
     "output_type": "execute_result"
    }
   ],
   "source": [
    "q.delele_file()"
   ]
  },
  {
   "cell_type": "code",
   "execution_count": null,
   "id": "ff6930d1-b046-4049-9f4b-0e3b335b4083",
   "metadata": {},
   "outputs": [],
   "source": []
  }
 ],
 "metadata": {
  "kernelspec": {
   "display_name": "Python 3 (ipykernel)",
   "language": "python",
   "name": "python3"
  },
  "language_info": {
   "codemirror_mode": {
    "name": "ipython",
    "version": 3
   },
   "file_extension": ".py",
   "mimetype": "text/x-python",
   "name": "python",
   "nbconvert_exporter": "python",
   "pygments_lexer": "ipython3",
   "version": "3.10.6"
  }
 },
 "nbformat": 4,
 "nbformat_minor": 5
}
