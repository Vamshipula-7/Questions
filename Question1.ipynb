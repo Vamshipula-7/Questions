{
 "cells": [
  {
   "cell_type": "code",
   "execution_count": null,
   "id": "054c6743-0ab3-47c5-a794-b7240955f051",
   "metadata": {},
   "outputs": [],
   "source": [
    "#Q1:- Create a file class for reading a data from one of the file with a method name read and write ?\n",
    "#use logging ,exception Handling"
   ]
  },
  {
   "cell_type": "code",
   "execution_count": 23,
   "id": "db6702d9-f6b7-4fd3-a910-52010c811b1b",
   "metadata": {},
   "outputs": [],
   "source": [
    "import logging\n",
    "logging.basicConfig(filename='file_class.log', level=logging.DEBUG ,filemode='w',format=\"%(asctime)s %(levelname)s %(message)s\")\n",
    "\n",
    "class File:\n",
    "                    \n",
    "    def __init__(self,filename):\n",
    "        self.filename=filename\n",
    "        \n",
    "    def read(self):\n",
    "        logging.info(\"this is the start of read operation\")\n",
    "        try:\n",
    "            logging.info(\"Iam inside try block of read method\")\n",
    "            with open(self.filename ,\"r\") as file:\n",
    "                data=file.read()\n",
    "                logging.info(\"Iam able to read the file\")\n",
    "                return data\n",
    "        except FileNotFoundError as e:\n",
    "            #print(e)\n",
    "            logging.error(\"Some Error eith the read file operation\")\n",
    "            logging.error(e)\n",
    "                    \n",
    "    def write(self,data1):\n",
    "        logging.info(\"This is start of Write Operation\")\n",
    "        try:\n",
    "            logging.info(\"I am inside the try block of write method\")\n",
    "            with open(self.filename,\"a\") as file:\n",
    "                data=file.write(data1)\n",
    "                logging.info(\"I am able to write the data into file\")\n",
    "        except Exception as e:\n",
    "           #print(e)\n",
    "            logging.error(\"there is some issue with write operation\")\n",
    "            logging.error(e)\n"
   ]
  },
  {
   "cell_type": "code",
   "execution_count": 24,
   "id": "7503d662-80d2-49fd-98df-9b0190d74bc9",
   "metadata": {},
   "outputs": [],
   "source": [
    "file1=File(\"Question1.txt\")"
   ]
  },
  {
   "cell_type": "code",
   "execution_count": 25,
   "id": "845dfa92-063e-48bc-afe1-55fe1e01fef2",
   "metadata": {},
   "outputs": [
    {
     "data": {
      "text/plain": [
       "'This my fileThis my fileThis my fileThis my fileThis my file,Iam the oqner of this file '"
      ]
     },
     "execution_count": 25,
     "metadata": {},
     "output_type": "execute_result"
    }
   ],
   "source": [
    "file1.read()"
   ]
  },
  {
   "cell_type": "code",
   "execution_count": 26,
   "id": "67bf8f76-b201-4416-8c0b-dc0f8ea49c01",
   "metadata": {},
   "outputs": [],
   "source": [
    "file1.write(\"This my file,Iam the oqner of this file \")"
   ]
  },
  {
   "cell_type": "code",
   "execution_count": 1,
   "id": "68756787-800b-4b82-aeca-c98c836860be",
   "metadata": {},
   "outputs": [
    {
     "name": "stdout",
     "output_type": "stream",
     "text": [
      " file_class.log     'OOPS day 2.ipynb'   Question1.txt\n",
      "'OOPS day 1.ipynb'   Question1.ipynb\n"
     ]
    }
   ],
   "source": [
    "ls"
   ]
  },
  {
   "cell_type": "code",
   "execution_count": 1,
   "id": "18d098c8-c043-4856-9707-4312b0af58ef",
   "metadata": {},
   "outputs": [],
   "source": []
  },
  {
   "cell_type": "code",
   "execution_count": null,
   "id": "4e9a290d-a86d-4416-bfcf-721d344694dc",
   "metadata": {},
   "outputs": [],
   "source": []
  }
 ],
 "metadata": {
  "kernelspec": {
   "display_name": "Python 3 (ipykernel)",
   "language": "python",
   "name": "python3"
  },
  "language_info": {
   "codemirror_mode": {
    "name": "ipython",
    "version": 3
   },
   "file_extension": ".py",
   "mimetype": "text/x-python",
   "name": "python",
   "nbconvert_exporter": "python",
   "pygments_lexer": "ipython3",
   "version": "3.10.6"
  }
 },
 "nbformat": 4,
 "nbformat_minor": 5
}
