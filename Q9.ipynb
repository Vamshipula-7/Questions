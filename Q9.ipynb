{
 "cells": [
  {
   "cell_type": "code",
   "execution_count": null,
   "id": "6fb091f6-ae23-455c-88c3-55231d1124cc",
   "metadata": {},
   "outputs": [],
   "source": [
    "#Q9:- create a class method to find a time and space complexity of any function"
   ]
  },
  {
   "cell_type": "code",
   "execution_count": 6,
   "id": "32c5339d-a3f2-49b4-bd35-d85b55f908f0",
   "metadata": {},
   "outputs": [],
   "source": [
    "import time \n",
    "import tracemalloc\n",
    "import logging\n",
    "logging.basicConfig(filename=\"Q9_space.log\",level=logging.DEBUG,format=\"%(asctime)s %(levelname)s %(message)s\")\n",
    "\n",
    "class Time_and_Space:\n",
    "    def time_com(self,fn,args):\n",
    "        start_time = time.time()\n",
    "        fn(args)\n",
    "        end_time=time.time()\n",
    "        return end_time-start_time\n",
    "    \n",
    "    def space_com(self,fn,args):\n",
    "        tracemalloc.start()\n",
    "        fn(args)\n",
    "        current,peak=tracemalloc.get_traced_memory()\n",
    "        tracemalloc.stop()\n",
    "        return current,peak\n",
    "        \n",
    "            "
   ]
  },
  {
   "cell_type": "code",
   "execution_count": 7,
   "id": "a0ad2885-22fa-4478-9f24-64b30a919e91",
   "metadata": {},
   "outputs": [],
   "source": [
    "t=Time_and_Space()"
   ]
  },
  {
   "cell_type": "code",
   "execution_count": 8,
   "id": "c529b8d0-0316-4a09-a07f-3f3b0f8e341c",
   "metadata": {},
   "outputs": [
    {
     "data": {
      "text/plain": [
       "9.5367431640625e-07"
      ]
     },
     "execution_count": 8,
     "metadata": {},
     "output_type": "execute_result"
    }
   ],
   "source": [
    "t.time_com(len,[1,2,3,4,5,6])"
   ]
  },
  {
   "cell_type": "code",
   "execution_count": 9,
   "id": "1c125d20-1952-41fb-aa52-681daad3c756",
   "metadata": {},
   "outputs": [
    {
     "data": {
      "text/plain": [
       "(54254, 91613)"
      ]
     },
     "execution_count": 9,
     "metadata": {},
     "output_type": "execute_result"
    }
   ],
   "source": [
    "t.space_com(len,[1,2,3,4,5,6])"
   ]
  },
  {
   "cell_type": "code",
   "execution_count": null,
   "id": "8a1a2c2c-97e6-4c4e-ab9e-eb80a2a5d072",
   "metadata": {},
   "outputs": [],
   "source": []
  }
 ],
 "metadata": {
  "kernelspec": {
   "display_name": "Python 3 (ipykernel)",
   "language": "python",
   "name": "python3"
  },
  "language_info": {
   "codemirror_mode": {
    "name": "ipython",
    "version": 3
   },
   "file_extension": ".py",
   "mimetype": "text/x-python",
   "name": "python",
   "nbconvert_exporter": "python",
   "pygments_lexer": "ipython3",
   "version": "3.10.6"
  }
 },
 "nbformat": 4,
 "nbformat_minor": 5
}
