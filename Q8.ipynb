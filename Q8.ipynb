{
 "cells": [
  {
   "cell_type": "code",
   "execution_count": 1,
   "id": "d509189e-f63c-4d68-a9ef-ac627f5a6c08",
   "metadata": {},
   "outputs": [],
   "source": [
    "#Q8:- create a class to build  a calculator functionalities addition,subtraction,multiplication,dividion,log,exponent,power"
   ]
  },
  {
   "cell_type": "code",
   "execution_count": 16,
   "id": "00e9dc9b-6a51-4cb4-bf4e-7121585cb106",
   "metadata": {},
   "outputs": [],
   "source": [
    "import math\n",
    "import logging\n",
    "logging.basicConfig(filename=\"Q8_calc.log\",level=logging.DEBUG,format=\"%(asctime)s %(levelname)s %(message)s\")\n",
    "\n",
    "class Calucaltinons:\n",
    "    def addition(self,data):\n",
    "        try:\n",
    "            sum=0\n",
    "            for i in data:\n",
    "                sum+=i\n",
    "            logging.info(\"sum calculated successfully\")\n",
    "            return sum\n",
    "        except Exception as e:\n",
    "            logging.error(e)\n",
    "    \n",
    "    def substraction(self,a,b):\n",
    "        try:\n",
    "            if a>b:\n",
    "                ans=a-b\n",
    "            else:\n",
    "                ans=b-a\n",
    "            logging.info(\"sub calculated succefully\")\n",
    "            return ans\n",
    "        \n",
    "        except Exception as e:\n",
    "            logging.error(e)\n",
    "    \n",
    "    def multi(self,data):\n",
    "        try:\n",
    "            product=1\n",
    "            for i in data:\n",
    "                product*=i\n",
    "            logging.info(\"mul calculated succefully\")\n",
    "            return product\n",
    "        \n",
    "        except Exception as e:\n",
    "            logging.error(e)\n",
    "        \n",
    "    def division(self,a1,a2):\n",
    "        try:\n",
    "            div=a1/a2\n",
    "            return div\n",
    "        except Exception as e:\n",
    "            logging.error(e)\n",
    "        \n",
    "    def log_1(self,k):\n",
    "        try:\n",
    "            ans=math.log(float(k))\n",
    "            return ans\n",
    "        except Exception as e:\n",
    "            loging.error(e)\n",
    "        \n",
    "    def exponent(self,d):\n",
    "        try:\n",
    "            logging.info(\"finding Exponent\")\n",
    "            ans=math.exp(d)\n",
    "            return d\n",
    "        except Exception as e:\n",
    "            logging.error(e)\n",
    "            \n",
    "    def power(self,p):\n",
    "        try:\n",
    "            logging.info(f\"power of {p}\")\n",
    "            ans=p**2\n",
    "            return ans\n",
    "        except Exception as e:\n",
    "            logging.error(e)\n",
    "        \n",
    "            \n"
   ]
  },
  {
   "cell_type": "code",
   "execution_count": 17,
   "id": "99deddca-50d7-4f52-8764-8a5b95114688",
   "metadata": {},
   "outputs": [],
   "source": [
    "c=Calucaltinons()"
   ]
  },
  {
   "cell_type": "code",
   "execution_count": 7,
   "id": "4b61e745-6164-4e0f-8726-f122f2bdb6cc",
   "metadata": {},
   "outputs": [
    {
     "data": {
      "text/plain": [
       "15"
      ]
     },
     "execution_count": 7,
     "metadata": {},
     "output_type": "execute_result"
    }
   ],
   "source": [
    "c.addition([1,2,3,4,5])"
   ]
  },
  {
   "cell_type": "code",
   "execution_count": 8,
   "id": "9440ed3f-29de-410b-8c0e-bddab1631b9c",
   "metadata": {},
   "outputs": [
    {
     "data": {
      "text/plain": [
       "5"
      ]
     },
     "execution_count": 8,
     "metadata": {},
     "output_type": "execute_result"
    }
   ],
   "source": [
    "c.substraction(10,5)"
   ]
  },
  {
   "cell_type": "code",
   "execution_count": 9,
   "id": "a2d8d916-5300-4cda-90c0-5bd61f22d153",
   "metadata": {},
   "outputs": [
    {
     "data": {
      "text/plain": [
       "120"
      ]
     },
     "execution_count": 9,
     "metadata": {},
     "output_type": "execute_result"
    }
   ],
   "source": [
    "c.multi([5,4,3,2,1])"
   ]
  },
  {
   "cell_type": "code",
   "execution_count": 10,
   "id": "6347d72b-9bad-4591-942a-620fc08d8b54",
   "metadata": {},
   "outputs": [
    {
     "data": {
      "text/plain": [
       "4.0"
      ]
     },
     "execution_count": 10,
     "metadata": {},
     "output_type": "execute_result"
    }
   ],
   "source": [
    "c.division(20,5)"
   ]
  },
  {
   "cell_type": "code",
   "execution_count": 11,
   "id": "28191ba1-f352-4376-bea1-712dadaebc86",
   "metadata": {},
   "outputs": [
    {
     "data": {
      "text/plain": [
       "0.6931471805599453"
      ]
     },
     "execution_count": 11,
     "metadata": {},
     "output_type": "execute_result"
    }
   ],
   "source": [
    "c.log_1(2)"
   ]
  },
  {
   "cell_type": "code",
   "execution_count": 12,
   "id": "c7c68816-da63-47da-be40-6d229816c297",
   "metadata": {},
   "outputs": [
    {
     "data": {
      "text/plain": [
       "2"
      ]
     },
     "execution_count": 12,
     "metadata": {},
     "output_type": "execute_result"
    }
   ],
   "source": [
    "c.exponent(2)"
   ]
  },
  {
   "cell_type": "code",
   "execution_count": 18,
   "id": "f4f5dd29-26cf-4dc3-98f5-8dbfcdde99fe",
   "metadata": {},
   "outputs": [
    {
     "data": {
      "text/plain": [
       "16"
      ]
     },
     "execution_count": 18,
     "metadata": {},
     "output_type": "execute_result"
    }
   ],
   "source": [
    "c.power(4)"
   ]
  },
  {
   "cell_type": "code",
   "execution_count": null,
   "id": "b4b5ec95-b20c-445f-ae63-7227c72ce198",
   "metadata": {},
   "outputs": [],
   "source": []
  }
 ],
 "metadata": {
  "kernelspec": {
   "display_name": "Python 3 (ipykernel)",
   "language": "python",
   "name": "python3"
  },
  "language_info": {
   "codemirror_mode": {
    "name": "ipython",
    "version": 3
   },
   "file_extension": ".py",
   "mimetype": "text/x-python",
   "name": "python",
   "nbconvert_exporter": "python",
   "pygments_lexer": "ipython3",
   "version": "3.10.6"
  }
 },
 "nbformat": 4,
 "nbformat_minor": 5
}
