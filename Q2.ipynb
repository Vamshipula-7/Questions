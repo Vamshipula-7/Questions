{
 "cells": [
  {
   "cell_type": "code",
   "execution_count": 3,
   "id": "79621e34-0ea7-4937-a451-b3082840fdc9",
   "metadata": {},
   "outputs": [],
   "source": [
    "#Q2:- create class for dict new element addition\n",
    "import logging\n",
    "logging.basicConfig(filename=\"Dict-Update.log\",level=logging.DEBUG,format=\"%(asctime)s %(levelname)s %(message)s\")\n",
    "class Dict_update:\n",
    "    def __init__(self,my_dict,value):\n",
    "        self.my_dict=my_dict\n",
    "        self.value=value\n",
    "        \n",
    "    def new_element(self):\n",
    "        try:\n",
    "            logging.info(\"Entering try block\")\n",
    "            (self.my_dict).update(self.value)\n",
    "            logging.info(\"Dict value updated\")\n",
    "            return self.my_dict\n",
    "        \n",
    "        except ValueError as e:\n",
    "            logging.error(\"Something went wrong\")\n",
    "            logging.error(e)\n",
    "            \n",
    "            "
   ]
  },
  {
   "cell_type": "code",
   "execution_count": 4,
   "id": "2b8d40bb-6a54-464a-a47b-16c413ecf641",
   "metadata": {},
   "outputs": [],
   "source": [
    "d=Dict_update({\"vamshi\":\"pula\",\"sahithi\":\"pindhrathi\"},{\"ammu\":\"pula\"})"
   ]
  },
  {
   "cell_type": "code",
   "execution_count": 5,
   "id": "06a18003-90d7-4b31-9da9-e4955401e54e",
   "metadata": {},
   "outputs": [
    {
     "data": {
      "text/plain": [
       "{'vamshi': 'pula', 'sahithi': 'pindhrathi', 'ammu': 'pula'}"
      ]
     },
     "execution_count": 5,
     "metadata": {},
     "output_type": "execute_result"
    }
   ],
   "source": [
    "d.new_element()"
   ]
  },
  {
   "cell_type": "code",
   "execution_count": null,
   "id": "4641e4a2-7f46-4fed-bf86-1549a3490dd4",
   "metadata": {},
   "outputs": [],
   "source": []
  }
 ],
 "metadata": {
  "kernelspec": {
   "display_name": "Python 3 (ipykernel)",
   "language": "python",
   "name": "python3"
  },
  "language_info": {
   "codemirror_mode": {
    "name": "ipython",
    "version": 3
   },
   "file_extension": ".py",
   "mimetype": "text/x-python",
   "name": "python",
   "nbconvert_exporter": "python",
   "pygments_lexer": "ipython3",
   "version": "3.10.6"
  }
 },
 "nbformat": 4,
 "nbformat_minor": 5
}
